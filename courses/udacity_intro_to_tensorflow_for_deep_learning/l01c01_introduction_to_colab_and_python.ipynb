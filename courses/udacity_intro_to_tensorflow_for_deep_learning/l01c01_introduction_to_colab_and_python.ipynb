{
  "cells": [
    {
      "cell_type": "code",
      "source": [
        "lst = [1,2,2,2,3,4,4,4,5,6,7]\n",
        "dup = {}\n",
        "\n",
        "for item in lst:\n",
        "  if item in dup:\n",
        "    dup[item] += 1\n",
        "  else:\n",
        "    dup[item] = 1\n",
        "for key in dup:\n",
        "  # if dup[key] > 1:\n",
        "    print(key, 'is',dup[key] )"
      ],
      "metadata": {
        "id": "rbMdM5ejyRks",
        "outputId": "d585fe5e-71ad-484e-eeae-ebb7e7d4affa",
        "colab": {
          "base_uri": "https://localhost:8080/"
        }
      },
      "execution_count": 3,
      "outputs": [
        {
          "output_type": "stream",
          "name": "stdout",
          "text": [
            "1 is 1\n",
            "2 is 3\n",
            "3 is 1\n",
            "4 is 3\n",
            "5 is 1\n",
            "6 is 1\n",
            "7 is 1\n"
          ]
        }
      ]
    },
    {
      "cell_type": "code",
      "source": [
        "words = ['qqwsw','eerdece','e','frgfrg']\n",
        "resut = ''\n",
        "for word in words:\n",
        "  resut += word + str(len(word))\n",
        "print(resut)"
      ],
      "metadata": {
        "id": "O41yYjOh50ix",
        "outputId": "273a9315-bc53-4865-dd9a-109b627c95d5",
        "colab": {
          "base_uri": "https://localhost:8080/"
        }
      },
      "execution_count": 4,
      "outputs": [
        {
          "output_type": "stream",
          "name": "stdout",
          "text": [
            "qqwsw5eerdece7e1frgfrg6\n"
          ]
        }
      ]
    },
    {
      "cell_type": "code",
      "source": [
        "num = 121\n",
        "strnum = str(num)\n",
        "trnum = strnum[::-1]\n",
        "\n",
        "if trnum == strnum:\n",
        "  print('yes')\n",
        "else:\n",
        "  print('no')"
      ],
      "metadata": {
        "colab": {
          "base_uri": "https://localhost:8080/"
        },
        "id": "FwJaNMQI6Sfg",
        "outputId": "8977e4b5-549f-4d4f-a3ea-1d97f113e5fe"
      },
      "execution_count": 18,
      "outputs": [
        {
          "output_type": "stream",
          "name": "stdout",
          "text": [
            "yes\n"
          ]
        }
      ]
    },
    {
      "cell_type": "code",
      "source": [
        "num = 121\n",
        "strnum = str(num)\n",
        "revnum = strnum[::-1]\n",
        "\n",
        "if strnum == revnum:\n",
        "    print('yes')\n",
        "else:\n",
        "    print('no')"
      ],
      "metadata": {
        "id": "IhfTjgOA6o8t",
        "outputId": "8fd7fe84-f8d4-4243-e0c4-9ea46bec3192",
        "colab": {
          "base_uri": "https://localhost:8080/"
        }
      },
      "execution_count": 20,
      "outputs": [
        {
          "output_type": "stream",
          "name": "stdout",
          "text": [
            "yes\n"
          ]
        }
      ]
    },
    {
      "cell_type": "code",
      "source": [],
      "metadata": {
        "id": "XUrckDV964Je"
      },
      "execution_count": null,
      "outputs": []
    }
  ],
  "metadata": {
    "accelerator": "GPU",
    "colab": {
      "name": "l01c01_introduction_to_colab_and_python.ipynb",
      "provenance": []
    },
    "kernelspec": {
      "display_name": "Python 3",
      "name": "python3"
    }
  },
  "nbformat": 4,
  "nbformat_minor": 0
}