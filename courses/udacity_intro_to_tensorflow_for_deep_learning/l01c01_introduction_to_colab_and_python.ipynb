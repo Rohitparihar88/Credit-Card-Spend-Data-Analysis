{
  "cells": [
    {
      "cell_type": "code",
      "source": [
        "lst = [1,2,2,2,3,4,4,4,5,6,7]\n",
        "dup = {}\n",
        "\n",
        "for item in lst:\n",
        "  if item in dup:\n",
        "    dup[item] += 1\n",
        "  else:\n",
        "    dup[item] = 1\n",
        "for key in dup:\n",
        "  # if dup[key] > 1:\n",
        "    print(key, 'is',dup[key] )"
      ],
      "metadata": {
        "colab": {
          "base_uri": "https://localhost:8080/"
        },
        "id": "rbMdM5ejyRks",
        "outputId": "d585fe5e-71ad-484e-eeae-ebb7e7d4affa"
      },
      "execution_count": 3,
      "outputs": [
        {
          "output_type": "stream",
          "name": "stdout",
          "text": [
            "1 is 1\n",
            "2 is 3\n",
            "3 is 1\n",
            "4 is 3\n",
            "5 is 1\n",
            "6 is 1\n",
            "7 is 1\n"
          ]
        }
      ]
    },
    {
      "cell_type": "code",
      "source": [
        "words = ['qqwsw','eerdece','e','frgfrg']\n",
        "resut = ''\n",
        "for word in words:\n",
        "  resut += word + str(len(word))\n",
        "print(resut)"
      ],
      "metadata": {
        "colab": {
          "base_uri": "https://localhost:8080/"
        },
        "id": "O41yYjOh50ix",
        "outputId": "273a9315-bc53-4865-dd9a-109b627c95d5"
      },
      "execution_count": 4,
      "outputs": [
        {
          "output_type": "stream",
          "name": "stdout",
          "text": [
            "qqwsw5eerdece7e1frgfrg6\n"
          ]
        }
      ]
    },
    {
      "cell_type": "code",
      "source": [
        "num = 121\n",
        "strnum = str(num)\n",
        "trnum = strnum[::-1]\n",
        "\n",
        "if trnum == strnum:\n",
        "  print('yes')\n",
        "else:\n",
        "  print('no')"
      ],
      "metadata": {
        "colab": {
          "base_uri": "https://localhost:8080/"
        },
        "id": "FwJaNMQI6Sfg",
        "outputId": "8977e4b5-549f-4d4f-a3ea-1d97f113e5fe"
      },
      "execution_count": 18,
      "outputs": [
        {
          "output_type": "stream",
          "name": "stdout",
          "text": [
            "yes\n"
          ]
        }
      ]
    },
    {
      "cell_type": "code",
      "source": [
        "num = 121\n",
        "strnum = str(num)\n",
        "revnum = strnum[::-1]\n",
        "\n",
        "if strnum == revnum:\n",
        "    print('yes')\n",
        "else:\n",
        "    print('no')"
      ],
      "metadata": {
        "colab": {
          "base_uri": "https://localhost:8080/"
        },
        "id": "IhfTjgOA6o8t",
        "outputId": "8fd7fe84-f8d4-4243-e0c4-9ea46bec3192"
      },
      "execution_count": 20,
      "outputs": [
        {
          "output_type": "stream",
          "name": "stdout",
          "text": [
            "yes\n"
          ]
        }
      ]
    },
    {
      "cell_type": "code",
      "source": [
        "from pyspark.sql import SparkSession\n",
        "from pyspark.sql.window import Window\n",
        "from pyspark.sql.functions import row_number\n",
        "# 1. Sample Data\n",
        "data = [\n",
        "    (\"U001\", \"2024-01-01 10:00:00\", 100),\n",
        "    (\"U001\", \"2024-02-01 09:00:00\", 105),\n",
        "    (\"U002\", \"2024-01-05 11:00:00\", 200),\n",
        "    (\"U002\", \"2024-01-05 08:00:00\", 195),\n",
        "]\n",
        "columns = [\"user_id\", \"last_updated\", \"value\"]\n",
        "spark = SparkSession.builder.getOrCreate()\n",
        "df = spark.createDataFrame(data, columns)\n",
        "# 2. Convert to timestamp if needed\n",
        "from pyspark.sql.functions import col\n",
        "from pyspark.sql.functions import to_timestamp\n",
        "df = df.withColumn(\"last_updated\", to_timestamp(\"last_updated\"))\n",
        "# 3. Define Window Spec\n",
        "window_spec = Window.partitionBy(\"user_id\").orderBy(col(\"last_updated\").desc())\n",
        "# 4. Assign Row Numbers\n",
        "ranked_df = df.withColumn(\"row_num\", row_number().over(window_spec))\n",
        "# 5. Filter for Most Recent Record\n",
        "final_df = ranked_df.filter(col(\"row_num\") == 1).drop(\"row_num\")\n",
        "final_df.show()"
      ],
      "metadata": {
        "colab": {
          "base_uri": "https://localhost:8080/"
        },
        "id": "XUrckDV964Je",
        "outputId": "e48fd94c-d9d2-4a31-88b9-1bb17859c26c"
      },
      "execution_count": 23,
      "outputs": [
        {
          "output_type": "stream",
          "name": "stdout",
          "text": [
            "+-------+-------------------+-----+\n",
            "|user_id|       last_updated|value|\n",
            "+-------+-------------------+-----+\n",
            "|   U001|2024-02-01 09:00:00|  105|\n",
            "|   U002|2024-01-05 11:00:00|  200|\n",
            "+-------+-------------------+-----+\n",
            "\n"
          ]
        }
      ]
    },
    {
      "cell_type": "code",
      "source": [],
      "metadata": {
        "id": "57lBoRIH8oeR"
      },
      "execution_count": null,
      "outputs": []
    }
  ],
  "metadata": {
    "accelerator": "GPU",
    "colab": {
      "name": "l01c01_introduction_to_colab_and_python.ipynb",
      "provenance": []
    },
    "kernelspec": {
      "display_name": "Python 3",
      "name": "python3"
    }
  },
  "nbformat": 4,
  "nbformat_minor": 0
}